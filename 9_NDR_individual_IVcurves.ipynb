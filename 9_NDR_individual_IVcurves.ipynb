{
 "cells": [
  {
   "cell_type": "code",
   "execution_count": 1,
   "id": "a68654d3-2878-4b65-a8fb-d038e668e40d",
   "metadata": {},
   "outputs": [],
   "source": [
    "from mcculw import ul\n",
    "from mcculw.enums import InterfaceType\n",
    "from mcculw.device_info import DaqDeviceInfo\n",
    "from mcculw.enums import ULRange,AnalogInputMode\n",
    "import time\n",
    "import numpy as np\n",
    "from matplotlib import pyplot as plt\n",
    "import json\n",
    "import matplotlib.cm as cm\n",
    "import pandas as pd"
   ]
  },
  {
   "cell_type": "code",
   "execution_count": 2,
   "id": "93c90021-e8ec-4f13-a25f-83b974938146",
   "metadata": {},
   "outputs": [],
   "source": [
    "colors = ['tab:red', 'tab:orange', 'tab:olive', 'tab:green', 'tab:cyan', 'tab:blue', 'tab:purple', 'tab:pink', 'tab:brown']"
   ]
  },
  {
   "cell_type": "code",
   "execution_count": 3,
   "id": "02482924-a10b-4e47-9c29-1ad6ac89783d",
   "metadata": {},
   "outputs": [],
   "source": [
    "AI_name = 'USB-1608G'\n",
    "AO_name = 'USB-3105'"
   ]
  },
  {
   "cell_type": "code",
   "execution_count": 4,
   "id": "8af133f9-0216-4844-958f-f8b6ae00f334",
   "metadata": {},
   "outputs": [],
   "source": [
    "ul.ignore_instacal()\n",
    "devices = ul.get_daq_device_inventory(InterfaceType.ANY)\n",
    "\n",
    "if not devices:\n",
    "        raise Exception('Error: No DAQ devices found')\n",
    "\n",
    "for d in devices:\n",
    "    if d.product_name == AI_name:\n",
    "        AI = d\n",
    "    elif d.product_name == AO_name:\n",
    "        AO = d"
   ]
  },
  {
   "cell_type": "code",
   "execution_count": 5,
   "id": "4fa4af83-4bca-49b0-8ec2-212cf3adbe8e",
   "metadata": {},
   "outputs": [],
   "source": [
    "in_num = 0\n",
    "ul.create_daq_device(in_num, AI)\n",
    "\n",
    "out_num=1\n",
    "ul.create_daq_device(out_num, AO)"
   ]
  },
  {
   "cell_type": "code",
   "execution_count": 6,
   "id": "92d53d3d-1dcd-4d77-8969-0765043cb9be",
   "metadata": {},
   "outputs": [],
   "source": [
    "#set ranges\n",
    "\n",
    "ai_range = ULRange.BIP10VOLTS \n",
    "ai_range_Vr = ULRange.BIP1VOLTS \n",
    "ul.a_input_mode(in_num, AnalogInputMode.SINGLE_ENDED) # SE mode\n",
    "\n",
    "daq_dev_info = DaqDeviceInfo(out_num)\n",
    "ao_range = daq_dev_info.get_ao_info().supported_ranges[0]"
   ]
  },
  {
   "cell_type": "code",
   "execution_count": 7,
   "id": "ea5a5932-e691-4f6a-8354-37918ce89e70",
   "metadata": {},
   "outputs": [
    {
     "name": "stdout",
     "output_type": "stream",
     "text": [
      "   edge  out_Vg  in_dV   Vgg\n",
      "0     1       5      0  2.50\n",
      "1     2       7      1  2.55\n",
      "2     3       9      9  2.62\n",
      "3     4       0      2  2.63\n",
      "4     5       2     10  2.60\n",
      "5     6       4      3  2.45\n",
      "6     7       6     11  2.40\n",
      "7     8       8     14  2.47\n",
      "8     9      10      6  2.47\n"
     ]
    }
   ],
   "source": [
    "out_V0_ch = 11\n",
    "out_LED_ch = 13\n",
    "\n",
    "out_Vg1_ch = 5\n",
    "out_Vg2_ch = 7\n",
    "out_Vg3_ch = 9\n",
    "out_Vg4_ch = 0\n",
    "out_Vg5_ch = 2\n",
    "out_Vg6_ch = 4\n",
    "out_Vg7_ch = 6\n",
    "out_Vg8_ch = 8\n",
    "out_Vg9_ch = 10\n",
    "in_V0_ch = 7\n",
    "in_V1_ch = 0\n",
    "in_V2_ch = 1\n",
    "in_V3_ch = 9\n",
    "in_V4_ch = 2\n",
    "in_V5_ch = 10\n",
    "in_V6_ch = 3\n",
    "in_V7_ch = 11\n",
    "in_V8_ch = 14\n",
    "in_V9_ch = 6\n",
    "in_Vr_ch = 15\n",
    "\n",
    "R0 = 998 #shunt resistance\n",
    "GND = 0 #V\n",
    "LED_supply = 3 #V\n",
    "gain = 1.\n",
    "\n",
    "Vg1 = 2.5\n",
    "Vg2 = 2.55\n",
    "Vg3 = 2.62\n",
    "Vg4 = 2.63\n",
    "Vg5 = 2.60\n",
    "Vg6 = 2.45\n",
    "Vg7 = 2.4\n",
    "Vg8 = 2.47\n",
    "Vg9 = 2.47\n",
    "\n",
    "edgecomms = pd.DataFrame({'edge': pd.Series([1,2,3,4,5,6,7,8,9], dtype='int'), \n",
    "                          'out_Vg': pd.Series([out_Vg1_ch, out_Vg2_ch, out_Vg3_ch, out_Vg4_ch, out_Vg5_ch, out_Vg6_ch, out_Vg7_ch, out_Vg8_ch, out_Vg9_ch], dtype='int'), \n",
    "                          'in_dV':pd.Series([in_V1_ch, in_V2_ch, in_V3_ch, in_V4_ch, in_V5_ch, in_V6_ch, in_V7_ch, in_V8_ch, in_V9_ch], dtype='int'), \n",
    "                         'Vgg': pd.Series([Vg1, Vg2, Vg3, Vg4, Vg5, Vg6, Vg7, Vg8, Vg9], dtype='float')})\n",
    "print(edgecomms)\n",
    "for e in edgecomms.itertuples():\n",
    "    ul.v_out(out_num, e.out_Vg, ao_range, e.Vgg)\n",
    "ul.v_out(out_num, out_V0_ch, ao_range, 0)\n",
    "ul.v_out(out_num, out_LED_ch, ao_range, LED_supply)"
   ]
  },
  {
   "cell_type": "code",
   "execution_count": 13,
   "id": "1b3a1059-2c80-436c-916a-57bceeb5875d",
   "metadata": {},
   "outputs": [],
   "source": [
    "ul.v_out(out_num, out_V0_ch, ao_range, 0)"
   ]
  },
  {
   "cell_type": "code",
   "execution_count": 9,
   "id": "b7bdb9ba-3452-416d-aebd-7d8f90e3d417",
   "metadata": {},
   "outputs": [],
   "source": [
    "def V0_scan(V0min=0.1, V0max=6, steps=100, nsamples=10, sleep=0, edgecomms= edgecomms):\n",
    "    Nedges = len(edgecomms)\n",
    "    out_dict = {'V{}'.format(x) : [] for x in edgecomms.edge}\n",
    "    out_dict['Vr'] = []\n",
    "    out_dict['V0'] = []\n",
    "    V0s = np.linspace(V0min, V0max, steps)\n",
    "    \n",
    "    for V0 in V0s:\n",
    "        ul.v_out(out_num, out_V0_ch, ao_range, V0)\n",
    "        sublists = {'V{}'.format(x) : [] for x in edgecomms.edge}\n",
    "        sublists['Vr'] = []\n",
    "        sublists['V0'] = []\n",
    "        \n",
    "        for n in range(nsamples):\n",
    "            sublists['Vr'].append(ul.v_in(in_num, in_Vr_ch, ai_range_Vr))\n",
    "            sublists['V0'].append(ul.v_in(in_num, in_V0_ch, ai_range))\n",
    "            for e in edgecomms.itertuples():\n",
    "                sublists['V{}'.format(e.edge)].append(ul.v_in(in_num, e.in_dV, ai_range))\n",
    "            time.sleep(1./60./4.)\n",
    "\n",
    "        out_dict['Vr'].append(np.mean(sublists['Vr']))\n",
    "        out_dict['V0'].append(np.mean(sublists['V0']))\n",
    "        for e in edgecomms.itertuples():\n",
    "                out_dict['V{}'.format(e.edge)].append(np.mean(sublists['V{}'.format(e.edge)]))\n",
    "        time.sleep(sleep)\n",
    "\n",
    "    ul.v_out(out_num, out_V0_ch, ao_range, 0)\n",
    "    return pd.DataFrame(out_dict)"
   ]
  },
  {
   "cell_type": "code",
   "execution_count": 10,
   "id": "2ff16f3d-254d-428e-90a7-b301338cce2a",
   "metadata": {},
   "outputs": [],
   "source": [
    "def V0_scan_updown(V0min=0.1, V0max=6, steps=100, nsamples=10, sleep=0, edgecomms= edgecomms):\n",
    "    Nedges = len(edgecomms)\n",
    "    out_dict = {'V{}'.format(x) : [] for x in edgecomms.edge}\n",
    "    out_dict['Vr'] = []\n",
    "    out_dict['V0'] = []\n",
    "    V0s = np.linspace(V0min, V0max, steps)\n",
    "    V0s_updown = np.concatenate((V0s, V0s[::-1][1:]), axis=-1)\n",
    "    \n",
    "    for V0 in V0s_updown:\n",
    "        ul.v_out(out_num, out_V0_ch, ao_range, V0)\n",
    "        sublists = {'V{}'.format(x) : [] for x in edgecomms.edge}\n",
    "        sublists['Vr'] = []\n",
    "        sublists['V0'] = []\n",
    "        \n",
    "        for n in range(nsamples):\n",
    "            sublists['Vr'].append(ul.v_in(in_num, in_Vr_ch, ai_range_Vr))\n",
    "            sublists['V0'].append(ul.v_in(in_num, in_V0_ch, ai_range))\n",
    "            for e in edgecomms.itertuples():\n",
    "                sublists['V{}'.format(e.edge)].append(ul.v_in(in_num, e.in_dV, ai_range))\n",
    "            time.sleep(1./60./4.)\n",
    "\n",
    "        out_dict['Vr'].append(np.mean(sublists['Vr']))\n",
    "        out_dict['V0'].append(np.mean(sublists['V0']))\n",
    "        for e in edgecomms.itertuples():\n",
    "                out_dict['V{}'.format(e.edge)].append(np.mean(sublists['V{}'.format(e.edge)]))\n",
    "\n",
    "        time.sleep(sleep)\n",
    "\n",
    "    ul.v_out(out_num, out_V0_ch, ao_range, 0)\n",
    "    return pd.DataFrame(out_dict)"
   ]
  },
  {
   "cell_type": "code",
   "execution_count": 15,
   "id": "a7d378d2-3e29-4c81-a148-408419a88795",
   "metadata": {},
   "outputs": [
    {
     "data": {
      "image/png": "[encoded data removed]",
      "text/plain": [
       "<Figure size 640x480 with 1 Axes>"
      ]
     },
     "metadata": {},
     "output_type": "display_data"
    },
    {
     "data": {
      "image/png": "[encoded data removed]",
      "text/plain": [
       "<Figure size 640x480 with 1 Axes>"
      ]
     },
     "metadata": {},
     "output_type": "display_data"
    }
   ],
   "source": [
    "outd = V0_scan_updown(V0max=9, steps=200, sleep=0, nsamples=5)\n",
    "\n",
    "for i in range(len(edgecomms)):\n",
    "    plt.scatter(outd['V{}'.format(i+1)], outd.Vr, zorder = -1*i, color=colors[i])\n",
    "    plt.plot(outd['V{}'.format(i+1)], outd.Vr, zorder = -1*i, color=colors[i])\n",
    "plt.show()\n",
    "\n",
    "for i in range(len(edgecomms)):\n",
    "    plt.plot(outd['V{}'.format(i+1)], label='V{}'.format(i+1), color=colors[i])\n",
    "plt.legend()\n",
    "\n",
    "plt.show()"
   ]
  },
  {
   "cell_type": "code",
   "execution_count": 12,
   "id": "a6e40f39-9b8c-40cc-a78e-7ec81cd01f3c",
   "metadata": {},
   "outputs": [
    {
     "ename": "NameError",
     "evalue": "name 'outd' is not defined",
     "output_type": "error",
     "traceback": [
      "\u001b[1;31m---------------------------------------------------------------------------\u001b[0m",
      "\u001b[1;31mNameError\u001b[0m                                 Traceback (most recent call last)",
      "Cell \u001b[1;32mIn[12], line 1\u001b[0m\n\u001b[1;32m----> 1\u001b[0m \u001b[43moutd\u001b[49m[\u001b[38;5;124m'\u001b[39m\u001b[38;5;124mR0\u001b[39m\u001b[38;5;124m'\u001b[39m] \u001b[38;5;241m=\u001b[39m R0\n\u001b[0;32m      2\u001b[0m outd[\u001b[38;5;124m'\u001b[39m\u001b[38;5;124mV0gain\u001b[39m\u001b[38;5;124m'\u001b[39m] \u001b[38;5;241m=\u001b[39m gain\n\u001b[0;32m      3\u001b[0m outd[\u001b[38;5;124m'\u001b[39m\u001b[38;5;124mRL1\u001b[39m\u001b[38;5;124m'\u001b[39m] \u001b[38;5;241m=\u001b[39m \u001b[38;5;241m10e3\u001b[39m\n",
      "\u001b[1;31mNameError\u001b[0m: name 'outd' is not defined"
     ]
    }
   ],
   "source": [
    "outd['R0'] = R0\n",
    "outd['V0gain'] = gain\n",
    "outd['RL1'] = 10e3\n",
    "outd['RL2'] = 10.5e3\n",
    "outd['RL3'] = 11e3\n",
    "outd['RL4'] = 11.5e3\n",
    "outd['RL5'] = 12e3\n",
    "outd['RL6'] = 12.5e3\n",
    "outd['RL7'] = 13e3\n",
    "outd['RL8'] = 13.5e3\n",
    "outd['RL9'] = 14e3\n",
    "for e in edgecomms.itertuples():\n",
    "    outd['Vg{}'.format(e.edge)] = e.Vgg\n",
    "\n",
    "outd"
   ]
  },
  {
   "cell_type": "code",
   "execution_count": 57,
   "id": "12697b8c-8b2e-448a-bd55-cc5e9c0e7f25",
   "metadata": {},
   "outputs": [],
   "source": [
    "outd.to_csv('sequences/9NDR/IVcurve_9.csv')"
   ]
  },
  {
   "cell_type": "code",
   "execution_count": 207,
   "id": "b65027e4-f613-4095-b2f5-7fd7f9113243",
   "metadata": {},
   "outputs": [],
   "source": [
    "ul.release_daq_device(in_num)\n",
    "ul.release_daq_device(out_num)"
   ]
  },
  {
   "cell_type": "code",
   "execution_count": null,
   "id": "b34c38a8-e3cb-4f35-9c12-175e117affd9",
   "metadata": {},
   "outputs": [],
   "source": [
    "outdict"
   ]
  }
 ],
 "metadata": {
  "kernelspec": {
   "display_name": "Python 3 (ipykernel)",
   "language": "python",
   "name": "python3"
  },
  "language_info": {
   "codemirror_mode": {
    "name": "ipython",
    "version": 3
   },
   "file_extension": ".py",
   "mimetype": "text/x-python",
   "name": "python",
   "nbconvert_exporter": "python",
   "pygments_lexer": "ipython3",
   "version": "3.10.11"
  }
 },
 "nbformat": 4,
 "nbformat_minor": 5
}
