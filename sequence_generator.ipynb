{
 "cells": [
  {
   "cell_type": "code",
   "execution_count": 31,
   "id": "a68654d3-2878-4b65-a8fb-d038e668e40d",
   "metadata": {},
   "outputs": [],
   "source": [
    "from mcculw import ul\n",
    "from mcculw.enums import InterfaceType\n",
    "from mcculw.device_info import DaqDeviceInfo\n",
    "from mcculw.enums import ULRange,AnalogInputMode\n",
    "import time\n",
    "import numpy as np\n",
    "from matplotlib import pyplot as plt\n",
    "import json\n",
    "import matplotlib.cm as cm\n",
    "import pandas as pd"
   ]
  },
  {
   "cell_type": "code",
   "execution_count": 32,
   "id": "02482924-a10b-4e47-9c29-1ad6ac89783d",
   "metadata": {},
   "outputs": [],
   "source": [
    "AI_name = 'USB-1608G'\n",
    "AO_name = 'USB-3105'"
   ]
  },
  {
   "cell_type": "code",
   "execution_count": 33,
   "id": "8af133f9-0216-4844-958f-f8b6ae00f334",
   "metadata": {},
   "outputs": [],
   "source": [
    "ul.ignore_instacal()\n",
    "devices = ul.get_daq_device_inventory(InterfaceType.ANY)\n",
    "\n",
    "if not devices:\n",
    "        raise Exception('Error: No DAQ devices found')\n",
    "\n",
    "for d in devices:\n",
    "    if d.product_name == AI_name:\n",
    "        AI = d\n",
    "    elif d.product_name == AO_name:\n",
    "        AO = d"
   ]
  },
  {
   "cell_type": "code",
   "execution_count": 34,
   "id": "4fa4af83-4bca-49b0-8ec2-212cf3adbe8e",
   "metadata": {},
   "outputs": [],
   "source": [
    "in_num = 0\n",
    "ul.create_daq_device(in_num, AI)\n",
    "\n",
    "out_num=1\n",
    "ul.create_daq_device(out_num, AO)"
   ]
  },
  {
   "cell_type": "code",
   "execution_count": 35,
   "id": "92d53d3d-1dcd-4d77-8969-0765043cb9be",
   "metadata": {},
   "outputs": [],
   "source": [
    "#set ranges\n",
    "\n",
    "ai_range = ULRange.BIP10VOLTS \n",
    "ul.a_input_mode(in_num, AnalogInputMode.SINGLE_ENDED) # SE mode\n",
    "\n",
    "daq_dev_info = DaqDeviceInfo(out_num)\n",
    "ao_range = daq_dev_info.get_ao_info().supported_ranges[0]"
   ]
  },
  {
   "cell_type": "code",
   "execution_count": 36,
   "id": "ea5a5932-e691-4f6a-8354-37918ce89e70",
   "metadata": {},
   "outputs": [],
   "source": [
    "out_V0_ch = 11\n",
    "out_Vg1_ch = 5\n",
    "out_Vg2_ch = 7\n",
    "in_V0_ch = 7\n",
    "in_V1_ch = 0\n",
    "in_V2_ch = 1\n",
    "in_Vr_ch = 8\n",
    "\n",
    "edgecomms = pd.DataFrame({'edge':[1,2], 'out_Vg':[out_Vg1_ch, out_Vg2_ch], 'in_dV':[in_V1_ch, in_V2_ch]})\n",
    "\n",
    "R0 = 3e3 #shunt resistance\n",
    "GND = 0 #V\n",
    "\n",
    "gain = 2."
   ]
  },
  {
   "cell_type": "code",
   "execution_count": 37,
   "id": "062e6618-f0a4-4e29-831f-8a8d592dc2cd",
   "metadata": {},
   "outputs": [],
   "source": [
    "ul.v_out(out_num, out_Vg1_ch, ao_range, 3)\n",
    "ul.v_out(out_num, out_Vg2_ch, ao_range, 3)\n",
    "ul.v_out(out_num, out_V0_ch, ao_range, 0)"
   ]
  },
  {
   "cell_type": "code",
   "execution_count": 38,
   "id": "c2b6af1e-8812-42a2-8e71-754aa22b9093",
   "metadata": {},
   "outputs": [],
   "source": [
    "def V0_scan_updown(V0min=0.1, V0max=5., steps=100, nsamples=10, sleep=0):\n",
    "    Vrs = []\n",
    "    dV1s = []\n",
    "    dV2s = []\n",
    "    V0s = np.linspace(V0min, V0max, steps)\n",
    "    V0s_updown = np.concatenate((V0s, V0s[::-1][1:]), axis=-1)\n",
    "    V0m = []\n",
    "    \n",
    "    for V0 in V0s_updown:\n",
    "        ul.v_out(out_num, out_V0_ch, ao_range, V0)\n",
    "        Vr_sublist = []\n",
    "        V1_sublist = []\n",
    "        V2_sublist = []\n",
    "        V0m.append(ul.v_in(in_num, in_V0_ch, ai_range))\n",
    "\n",
    "        for n in range(nsamples):\n",
    "            Vrlocal = ul.v_in(in_num, in_Vr_ch, ai_range)\n",
    "            V1local = ul.v_in(in_num, in_V1_ch, ai_range)\n",
    "            V2local = ul.v_in(in_num, in_V2_ch, ai_range)\n",
    "            Vr_sublist.append(Vrlocal)\n",
    "            V1_sublist.append(V1local)\n",
    "            V2_sublist.append(V2local)\n",
    "            time.sleep(1./60./4.)\n",
    "            if V1local >=10. or V2local >=10:\n",
    "                print('V1={}, V2={}'.format(V1local, V2local))\n",
    "                break\n",
    "        else:\n",
    "            Vrs.append(np.mean(Vr_sublist))\n",
    "            dV1s.append(np.mean(V1_sublist))\n",
    "            dV2s.append(np.mean(V2_sublist))\n",
    "            time.sleep(sleep)\n",
    "            continue\n",
    "        break\n",
    "\n",
    "\n",
    "    return V0s_updown, dV1s, dV2s, Vrs, V0m"
   ]
  },
  {
   "cell_type": "code",
   "execution_count": 39,
   "id": "04242c91-2fb5-49bf-8d77-87082f9337d3",
   "metadata": {},
   "outputs": [],
   "source": [
    "def V0scan_piecewise(V0s =[], nsamples=10, sleep=0):\n",
    "    Vrs = []\n",
    "    dV1s = []\n",
    "    dV2s = []\n",
    "    V0m = []\n",
    "    V0s = np.array(V0s)\n",
    "    \n",
    "    for V0 in V0s:\n",
    "        ul.v_out(out_num, out_V0_ch, ao_range, V0)\n",
    "        Vr_sublist = []\n",
    "        V1_sublist = []\n",
    "        V2_sublist = []\n",
    "        V0m.append(ul.v_in(in_num, in_V0_ch, ai_range))\n",
    "\n",
    "        for n in range(nsamples):\n",
    "            Vrlocal = ul.v_in(in_num, in_Vr_ch, ai_range)\n",
    "            V1local = ul.v_in(in_num, in_V1_ch, ai_range)\n",
    "            V2local = ul.v_in(in_num, in_V2_ch, ai_range)\n",
    "            Vr_sublist.append(Vrlocal)\n",
    "            V1_sublist.append(V1local)\n",
    "            V2_sublist.append(V2local)\n",
    "            time.sleep(1./60./4.)\n",
    "            if V1local >=10. or V2local >=10:\n",
    "                print('V1={}, V2={}'.format(V1local, V2local))\n",
    "                break\n",
    "        else:\n",
    "            Vrs.append(np.mean(Vr_sublist))\n",
    "            dV1s.append(np.mean(V1_sublist))\n",
    "            dV2s.append(np.mean(V2_sublist))\n",
    "            time.sleep(sleep)\n",
    "            continue\n",
    "        break\n",
    "\n",
    "\n",
    "    return V0m, dV1s, dV2s, Vrs"
   ]
  },
  {
   "cell_type": "code",
   "execution_count": 88,
   "id": "9e7cf893-814b-477e-a75c-8f1103834167",
   "metadata": {},
   "outputs": [
    {
     "data": {
      "text/plain": [
       "[<matplotlib.lines.Line2D at 0x23585a483d0>]"
      ]
     },
     "execution_count": 88,
     "metadata": {},
     "output_type": "execute_result"
    },
    {
     "data": {
      "image/png": "[encoded data removed]",
      "text/plain": [
       "<Figure size 640x480 with 1 Axes>"
      ]
     },
     "metadata": {},
     "output_type": "display_data"
    }
   ],
   "source": [
    "def generate_breakpoints(state = '10', ons = [4., 6.], offs = [4., 0.]):\n",
    "    #assume 1 turns on first, then 2, etc\n",
    "    #step 1: go up until you hit the last \"1\", truncate list\n",
    "    #step 2: go down until you hit the first \"0\", truncate list\n",
    "    #repeat\n",
    "\n",
    "    breakpoints = [0.]\n",
    "\n",
    "    localstate = (state+'0')[:-1]\n",
    "\n",
    "    while localstate:\n",
    "        laston = localstate.rfind('1')\n",
    "        if laston == -1:\n",
    "            break\n",
    "        breakpoints.append(ons[laston])\n",
    "        localstate= localstate[:laston]\n",
    "        firstoff = localstate.find('0')\n",
    "        if firstoff == -1:\n",
    "            break\n",
    "        breakpoints.append(offs[firstoff])\n",
    "        localstate = localstate[firstoff:]\n",
    "\n",
    "    return breakpoints\n",
    "\n",
    "def generate_V0_sequence(breakpoints=[0.], steps=10, hold = 0):\n",
    "    #steps = # steps between each breakpoint\n",
    "    #hold = # steps to hold on each breakpoint (constant)\n",
    "    \n",
    "    if len(breakpoints) <=1:\n",
    "        return breakpoints\n",
    "    else:\n",
    "        seq = np.array([])\n",
    "        for previous, current in zip(breakpoints, breakpoints[1:]):\n",
    "            seq = np.concatenate((seq, np.linspace(previous, current, steps)), axis=-1)\n",
    "            seq = np.concatenate((seq, np.ones(hold)*current), axis=-1)\n",
    "        return seq\n",
    "\n",
    "plt.plot(generate_V0_sequence(generate_breakpoints('01'), hold=4))"
   ]
  },
  {
   "cell_type": "code",
   "execution_count": 41,
   "id": "bca51b2d-603b-40a2-bbc3-fe1321e9ffe8",
   "metadata": {},
   "outputs": [],
   "source": [
    "\n",
    "V0m, dV1s, dV2s, Vrs = (np.array(x) for x in V0scan_piecewise(V0s = V0seq, sleep=0.1))\n",
    "\n",
    "# plt.plot(V0m,Vrs)\n",
    "# plt.plot(V0m, dV1s, label='NDR1')\n",
    "# plt.plot(V0m, dV2s, label='NDR2')\n",
    "# plt.legend()\n",
    "# plt.show()\n",
    "\n",
    "# # plt.plot(V0s, V0m)\n",
    "\n",
    "# plt.scatter(dV1s, Vrs)\n",
    "# plt.scatter(dV2s, Vrs)"
   ]
  },
  {
   "cell_type": "code",
   "execution_count": 17,
   "id": "7da380ac-1c34-47c6-b373-b694764950e4",
   "metadata": {},
   "outputs": [
    {
     "data": {
      "text/plain": [
       "1.54815673828125"
      ]
     },
     "execution_count": 17,
     "metadata": {},
     "output_type": "execute_result"
    }
   ],
   "source": [
    "def sense_onoff(edge, V0step=0.1, dV_thresh=0.8):\n",
    "    in_ch =edge.in_dV.values[0]\n",
    "    current_V0 = 0.\n",
    "    ul.v_out(out_num, out_V0_ch, ao_range, current_V0)\n",
    "    \n",
    "    current_dV = ul.v_in(in_num, in_ch, ai_range)\n",
    "    switched = False\n",
    "    while not(switched):\n",
    "        current_V0 += V0step\n",
    "        ul.v_out(out_num, out_V0_ch, ao_range, current_V0)\n",
    "\n",
    "        new_dV = ul.v_in(in_num, in_ch, ai_range)\n",
    "        if np.abs(new_dV - current_dV) > dV_thresh:\n",
    "            switched = True\n",
    "        current_dV = new_dV\n",
    "    ul.v_out(out_num, out_V0_ch, ao_range, 0.)\n",
    "    return current_dV\n",
    "\n",
    "testedge = edgecomms[edgecomms.edge==1]\n",
    "\n",
    "sense_onoff(testedge)"
   ]
  },
  {
   "cell_type": "code",
   "execution_count": 28,
   "id": "9fdd5b54-7b5b-47c0-bfc8-45d27efdaa57",
   "metadata": {},
   "outputs": [
    {
     "data": {
      "text/plain": [
       "'_____'"
      ]
     },
     "execution_count": 28,
     "metadata": {},
     "output_type": "execute_result"
    }
   ],
   "source": [
    "state = '1010'\n",
    "\n",
    "state[:2]\n",
    "\n",
    "'_'*5"
   ]
  },
  {
   "cell_type": "code",
   "execution_count": 117,
   "id": "e0971056-5a38-468b-8a68-750f32bf5043",
   "metadata": {},
   "outputs": [],
   "source": [
    "def generate_V0seq_iterative2(state = '10', V0step = 0.1, dV_thresh = 0.8, sleep=0, edgecomms = edgecomms):\n",
    "    #assume 1 turns on first, then 2, etc\n",
    "    #step 1: get index of last \"1\" in sequence. find voltage that switches the edge of that index on. set everything after to nan\n",
    "    # step 2: get index of first \"0\" in sequence. find voltage that switches edge of that index off. set everything before to nan\n",
    "\n",
    "    #check that state length == number of edges\n",
    "    if len(state) != len(edgecomms):\n",
    "        raise Exception('State length does not match number of edges')\n",
    "        return None\n",
    "    Nedges = len(state)\n",
    "\n",
    "    \n",
    "    breakpoints = [0.]\n",
    "    current_V0 = 0.\n",
    "    ul.v_out(out_num, out_V0_ch, ao_range, current_V0)\n",
    "    \n",
    "    localstate = (state+'0')[:-1]\n",
    "\n",
    "    while (('1' in localstate) or ('0' in localstate)):\n",
    "        laston = localstate.rfind('1')\n",
    "        if laston == -1:\n",
    "            break\n",
    "        else:\n",
    "            localedge = edgecomms[edgecomms.edge == laston +1]\n",
    "            in_ch = localedge.in_dV.values[0]\n",
    "            switched = False\n",
    "            current_dV = ul.v_in(in_num, in_ch, ai_range)\n",
    "            while not(switched):\n",
    "                current_V0 += V0step\n",
    "                ul.v_out(out_num, out_V0_ch, ao_range, current_V0)\n",
    "                \n",
    "                new_dV = ul.v_in(in_num, in_ch, ai_range)\n",
    "                if new_dV - current_dV >= dV_thresh:\n",
    "                    switched = True\n",
    "                current_dV = new_dV\n",
    "                time.sleep(sleep)\n",
    "            breakpoints.append(current_V0)\n",
    "            localstate = localstate[:laston] + '_'*(Nedges - laston)\n",
    "        firstoff = localstate.find('0')\n",
    "        if firstoff == -1:\n",
    "            break\n",
    "        else:\n",
    "            localedge = edgecomms[edgecomms.edge == firstoff + 1]\n",
    "            in_ch = localedge.in_dV.values[0]\n",
    "            switched = False\n",
    "            current_dV = ul.v_in(in_num, in_ch, ai_range)\n",
    "            while not(switched):\n",
    "                current_V0 -= V0step\n",
    "                ul.v_out(out_num, out_V0_ch, ao_range, current_V0)\n",
    "                \n",
    "                new_dV = ul.v_in(in_num, in_ch, ai_range)\n",
    "                if current_dV - new_dV >= dV_thresh:\n",
    "                    switched = True\n",
    "                current_dV = new_dV\n",
    "                time.sleep(sleep)\n",
    "            breakpoints.append(current_V0)\n",
    "            localstate = '_'*(firstoff) + localstate[firstoff:]\n",
    "    ul.v_out(out_num, out_V0_ch, ao_range, 0.)\n",
    "    return generate_V0_sequence(breakpoints)"
   ]
  },
  {
   "cell_type": "code",
   "execution_count": 137,
   "id": "2d47b5ac-da9b-4b39-9626-8581e3046c1b",
   "metadata": {},
   "outputs": [],
   "source": [
    "def generate_V0seq_iterative(state = '10', V0step = 0.1, dV_thresh = 1.2, sleep=0, edgecomms = edgecomms):\n",
    "    #assume 1 turns on first, then 2, etc\n",
    "    #step 1: get index of last \"1\" in sequence. find voltage that switches the edge of that index on. set everything after to nan\n",
    "    # step 2: get index of first \"0\" in sequence. find voltage that switches edge of that index off. set everything before to nan\n",
    "\n",
    "    #check that state length == number of edges\n",
    "    if len(state) != len(edgecomms):\n",
    "        raise Exception('State length does not match number of edges')\n",
    "        return None\n",
    "    Nedges = len(state)\n",
    "\n",
    "    \n",
    "    breakpoints = [0.]\n",
    "    current_V0 = 0.\n",
    "    ul.v_out(out_num, out_V0_ch, ao_range, current_V0)\n",
    "    \n",
    "    localstate = (state+'0')[:-1]\n",
    "\n",
    "    while ((('1' in localstate) or ('0' in localstate)) and current_V0 < 10.):\n",
    "        laston = localstate.rfind('1')\n",
    "        if laston == -1:\n",
    "            break\n",
    "        else:\n",
    "            localedge = edgecomms[edgecomms.edge == laston +1]\n",
    "            in_ch = localedge.in_dV.values[0]\n",
    "            switched = False\n",
    "            while not(switched):\n",
    "                current_V0 += V0step\n",
    "                ul.v_out(out_num, out_V0_ch, ao_range, current_V0)\n",
    "                \n",
    "                current_dV = ul.v_in(in_num, in_ch, ai_range)\n",
    "                if current_dV >= dV_thresh:\n",
    "                    switched = True\n",
    "                time.sleep(sleep)\n",
    "            breakpoints.append(current_V0)\n",
    "            localstate = localstate[:laston] + '_'*(Nedges - laston)\n",
    "        firstoff = localstate.find('0')\n",
    "        if firstoff == -1:\n",
    "            break\n",
    "        else:\n",
    "            localedge = edgecomms[edgecomms.edge == firstoff + 1]\n",
    "            in_ch = localedge.in_dV.values[0]\n",
    "            switched = False\n",
    "            while not(switched):\n",
    "                current_V0 -= V0step\n",
    "                ul.v_out(out_num, out_V0_ch, ao_range, current_V0)\n",
    "                \n",
    "                current_dV = ul.v_in(in_num, in_ch, ai_range)\n",
    "                if current_dV <= dV_thresh:\n",
    "                    switched = True\n",
    "                time.sleep(sleep)\n",
    "            breakpoints.append(current_V0)\n",
    "            localstate = '_'*(firstoff) + localstate[firstoff:]\n",
    "    ul.v_out(out_num, out_V0_ch, ao_range, 0.)\n",
    "    return generate_V0_sequence(breakpoints)"
   ]
  },
  {
   "cell_type": "code",
   "execution_count": 139,
   "id": "c0894bed-f52b-4481-b548-742e95b63676",
   "metadata": {},
   "outputs": [
    {
     "data": {
      "text/plain": [
       "[<matplotlib.lines.Line2D at 0x23586bd7550>]"
      ]
     },
     "execution_count": 139,
     "metadata": {},
     "output_type": "execute_result"
    },
    {
     "data": {
      "image/png": "[encoded data removed]",
      "text/plain": [
       "<Figure size 640x480 with 1 Axes>"
      ]
     },
     "metadata": {},
     "output_type": "display_data"
    }
   ],
   "source": [
    "V0seq = generate_V0seq_iterative('01', sleep=0)\n",
    "\n",
    "V0, V1, V2, Vr = V0scan_piecewise(V0seq)\n",
    "# ul.v_out(out_num, out_V0_ch, ao_range, 0.)\n",
    "\n",
    "\n",
    "plt.plot(V1)\n",
    "plt.plot(V2)\n"
   ]
  },
  {
   "cell_type": "code",
   "execution_count": 140,
   "id": "03d82d29-532e-4dc2-b915-2b8f2d5ebc1f",
   "metadata": {},
   "outputs": [
    {
     "data": {
      "text/plain": [
       "<matplotlib.collections.PathCollection at 0x23586e70940>"
      ]
     },
     "execution_count": 140,
     "metadata": {},
     "output_type": "execute_result"
    },
    {
     "data": {
      "image/png": "[encoded data removed]",
      "text/plain": [
       "<Figure size 640x480 with 1 Axes>"
      ]
     },
     "metadata": {},
     "output_type": "display_data"
    }
   ],
   "source": [
    "plt.scatter(V1, Vr)\n",
    "plt.scatter(V2, Vr)"
   ]
  },
  {
   "cell_type": "code",
   "execution_count": 141,
   "id": "cdabe70a-8b42-41d9-a5fd-4b2c6bfec674",
   "metadata": {},
   "outputs": [],
   "source": [
    "ul.v_out(out_num, out_V0_ch, ao_range, 00.)"
   ]
  },
  {
   "cell_type": "code",
   "execution_count": null,
   "id": "623472d0-6556-40f7-8317-2a07c19c3cd8",
   "metadata": {},
   "outputs": [],
   "source": [
    "fig, ax = plt.subplots()\n",
    "ax.plot(dV1s)\n",
    "ax.plot(dV2s)\n",
    "# ax.set_xticklabels([round(x,2) for x in V0m[::20]])"
   ]
  },
  {
   "cell_type": "code",
   "execution_count": null,
   "id": "e67b01e4-f613-4118-b779-bddef91f13b3",
   "metadata": {},
   "outputs": [],
   "source": [
    "V0m[::20]"
   ]
  },
  {
   "cell_type": "code",
   "execution_count": null,
   "id": "a6e40f39-9b8c-40cc-a78e-7ec81cd01f3c",
   "metadata": {},
   "outputs": [],
   "source": [
    "df = pd.DataFrame({'V0':list(V0s), 'V1':list(V1s), 'Vr':list(Vrs), 'R0':R0, 'Vg1': 3, 'Vg2':3, \n",
    "                   'RL1':10e3, 'RL2':10e3, 'C1': 20e-6, 'C2': 20e-6, \n",
    "                   'CA0': 20e-6, 'CA1': 20e-6, 'CA2': 20e-6, 'sleep':0.1})\n",
    "\n",
    "df"
   ]
  },
  {
   "cell_type": "code",
   "execution_count": null,
   "id": "12697b8c-8b2e-448a-bd55-cc5e9c0e7f25",
   "metadata": {},
   "outputs": [],
   "source": [
    "df.to_csv('2_NDR_data/equal_with_CAs_slow.csv')"
   ]
  },
  {
   "cell_type": "code",
   "execution_count": null,
   "id": "495d8e90-3c5b-43ce-8168-7f19acee26b6",
   "metadata": {
    "scrolled": true
   },
   "outputs": [],
   "source": [
    "jsondict = {'V0':list(V0s), 'V1':list(V1s), 'Vr':list(Vrs), 'R0':R0, 'Vg1': 3, 'Vg2':3, \n",
    "                   'RL1':10e3, 'RL2':10e3, 'C1': 0, 'C2': 0,  'sleeptime': 1}\n",
    "\n",
    "with open('./2_NDR_data/equal_nocaps.json', 'w') as f:\n",
    "    json.dump(jsondict, f)"
   ]
  },
  {
   "cell_type": "code",
   "execution_count": 142,
   "id": "b65027e4-f613-4095-b2f5-7fd7f9113243",
   "metadata": {},
   "outputs": [],
   "source": [
    "ul.release_daq_device(in_num)\n",
    "ul.release_daq_device(out_num)"
   ]
  },
  {
   "cell_type": "code",
   "execution_count": null,
   "id": "b34c38a8-e3cb-4f35-9c12-175e117affd9",
   "metadata": {},
   "outputs": [],
   "source": [
    "outdict"
   ]
  },
  {
   "cell_type": "code",
   "execution_count": null,
   "id": "28503537-2a50-4325-ac0f-272afe767aa0",
   "metadata": {},
   "outputs": [],
   "source": []
  }
 ],
 "metadata": {
  "kernelspec": {
   "display_name": "Python 3 (ipykernel)",
   "language": "python",
   "name": "python3"
  },
  "language_info": {
   "codemirror_mode": {
    "name": "ipython",
    "version": 3
   },
   "file_extension": ".py",
   "mimetype": "text/x-python",
   "name": "python",
   "nbconvert_exporter": "python",
   "pygments_lexer": "ipython3",
   "version": "3.10.11"
  }
 },
 "nbformat": 4,
 "nbformat_minor": 5
}
